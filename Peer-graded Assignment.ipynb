{
 "cells": [
  {
   "cell_type": "markdown",
   "id": "06918e1c-e187-4605-8ac2-7a136a5fc924",
   "metadata": {},
   "source": [
    "# My Jupyter Notebook on IBM Watson Studio"
   ]
  },
  {
   "cell_type": "markdown",
   "id": "ae5eddd6-10dc-41df-ab17-8d8084995b14",
   "metadata": {},
   "source": [
    "**Marco J**"
   ]
  },
  {
   "cell_type": "markdown",
   "id": "6cfa3142-4e21-4657-89e7-630d68e77cfe",
   "metadata": {
    "tags": []
   },
   "source": [
    "*I am interested in data science because i love to create mathematical model*"
   ]
  },
  {
   "cell_type": "markdown",
   "id": "764d0b8b-22c3-40e5-a5e1-7ef70d73c552",
   "metadata": {},
   "source": [
    "### The following code evaluates an area of rectangle"
   ]
  },
  {
   "cell_type": "code",
   "execution_count": 3,
   "id": "b435f1e9-543a-42c0-87c4-93c4df5c9d87",
   "metadata": {},
   "outputs": [
    {
     "name": "stdout",
     "output_type": "stream",
     "text": [
      "6\n"
     ]
    }
   ],
   "source": [
    "# Let A is width\n",
    "A=2\n",
    "# Let B is length\n",
    "B=3\n",
    "Area=A*B\n",
    "print(Area)"
   ]
  },
  {
   "cell_type": "code",
   "execution_count": null,
   "id": "27521d2e-b24d-460d-90a3-0f6e72f66053",
   "metadata": {},
   "outputs": [
    {
     "ename": "SyntaxError",
     "evalue": "invalid syntax (4243133017.py, line 1)",
     "output_type": "error",
     "traceback": [
      "\u001b[0;36m  File \u001b[0;32m\"/tmp/ipykernel_347/4243133017.py\"\u001b[0;36m, line \u001b[0;32m1\u001b[0m\n\u001b[0;31m    ~~Strikethrough~~\u001b[0m\n\u001b[0m                   ^\u001b[0m\n\u001b[0;31mSyntaxError\u001b[0m\u001b[0;31m:\u001b[0m invalid syntax\n"
     ]
    }
   ],
   "source": [
    "~~Strikethrough~~\n",
    "\n",
    "* Orange\n",
    "* Apple\n",
    "* Mango\n",
    "\n",
    "|Year|Month|Date|\n",
    "|----|----|----|\n",
    "|2022|08|27|"
   ]
  }
 ],
 "metadata": {
  "kernelspec": {
   "display_name": "Python",
   "language": "python",
   "name": "conda-env-python-py"
  },
  "language_info": {
   "codemirror_mode": {
    "name": "ipython",
    "version": 3
   },
   "file_extension": ".py",
   "mimetype": "text/x-python",
   "name": "python",
   "nbconvert_exporter": "python",
   "pygments_lexer": "ipython3",
   "version": "3.7.12"
  }
 },
 "nbformat": 4,
 "nbformat_minor": 5
}
